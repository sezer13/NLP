{
 "cells": [
  {
   "cell_type": "code",
   "execution_count": 1,
   "id": "bb87ddd9",
   "metadata": {},
   "outputs": [],
   "source": [
    "import nltk"
   ]
  },
  {
   "cell_type": "code",
   "execution_count": 2,
   "id": "f67f442f",
   "metadata": {},
   "outputs": [],
   "source": [
    "from nltk.tokenize import sent_tokenize\n"
   ]
  },
  {
   "cell_type": "code",
   "execution_count": 3,
   "id": "6a7e01cd",
   "metadata": {},
   "outputs": [
    {
     "name": "stdout",
     "output_type": "stream",
     "text": [
      "['Hello Mr. Smith, how are you doing today?', 'The weather is great, and city is awesome.', 'The sky is pinkish-blue.', \"You shouldn't eat cardboard\"]\n"
     ]
    }
   ],
   "source": [
    "text=\"\"\"Hello Mr. Smith, how are you doing today? The weather is great, and city is awesome.\n",
    "The sky is pinkish-blue. You shouldn't eat cardboard\"\"\"\n",
    "tokenized_text=sent_tokenize(text)\n",
    "print(tokenized_text)"
   ]
  },
  {
   "cell_type": "code",
   "execution_count": 4,
   "id": "e8752550",
   "metadata": {},
   "outputs": [],
   "source": [
    "from nltk.tokenize import word_tokenize\n"
   ]
  },
  {
   "cell_type": "code",
   "execution_count": 5,
   "id": "a8e8e16b",
   "metadata": {},
   "outputs": [
    {
     "name": "stdout",
     "output_type": "stream",
     "text": [
      "['Hello', 'Mr.', 'Smith', ',', 'how', 'are', 'you', 'doing', 'today', '?', 'The', 'weather', 'is', 'great', ',', 'and', 'city', 'is', 'awesome', '.', 'The', 'sky', 'is', 'pinkish-blue', '.', 'You', 'should', \"n't\", 'eat', 'cardboard']\n"
     ]
    }
   ],
   "source": [
    "tokenized_word=word_tokenize(text)\n",
    "print(tokenized_word)"
   ]
  },
  {
   "cell_type": "code",
   "execution_count": 6,
   "id": "3b1b16bc",
   "metadata": {},
   "outputs": [
    {
     "name": "stdout",
     "output_type": "stream",
     "text": [
      "<FreqDist with 25 samples and 30 outcomes>\n"
     ]
    },
    {
     "data": {
      "text/plain": [
       "[('is', 3), (',', 2)]"
      ]
     },
     "execution_count": 6,
     "metadata": {},
     "output_type": "execute_result"
    }
   ],
   "source": [
    "from nltk.probability import FreqDist\n",
    "fdist = FreqDist(tokenized_word)\n",
    "print(fdist)\n",
    "fdist.most_common(2)"
   ]
  },
  {
   "cell_type": "code",
   "execution_count": 7,
   "id": "c3619cea",
   "metadata": {},
   "outputs": [
    {
     "name": "stdout",
     "output_type": "stream",
     "text": [
      "{'yourself', \"it's\", 'when', 'they', 'had', 'all', 'haven', 'between', 'them', 'these', \"you're\", 'ours', 'who', 'should', 'o', 'by', 'from', 'over', 'd', 'ain', 'myself', \"that'll\", 'your', 'couldn', 'needn', 'here', 'in', \"haven't\", \"shouldn't\", 'hers', 'i', 'll', \"you've\", 'into', 'on', 'very', 'does', 'mightn', 'those', 'being', 'having', 'after', 'with', 'ourselves', 'shan', 'm', 'own', 'her', 'his', \"hasn't\", 'our', 'can', 'at', 'have', \"wouldn't\", \"doesn't\", 'what', 'do', 'before', \"wasn't\", 'only', 'been', 'until', 'most', 've', \"didn't\", \"hadn't\", 'yours', 'themselves', 'of', 'am', 's', 'are', 'other', 'such', 'why', 'down', 'there', 'me', 'few', 'aren', 'just', 'about', 'we', 'how', 'not', 'through', 'as', 'himself', 'was', 'than', \"couldn't\", \"won't\", \"weren't\", 'wasn', 'this', 'y', 'against', 'or', 'doesn', 'theirs', 'an', 'below', 'its', 'weren', 'then', 'were', 'nor', 'the', \"should've\", \"don't\", 'yourselves', 'itself', 'no', 'will', 'now', \"mustn't\", \"mightn't\", 'during', 'hadn', 'off', 'is', 'again', 'a', 'under', 'be', 'where', 'too', 't', 'him', 'which', 'hasn', 'doing', 'my', 'their', 'it', 'same', 'shouldn', 'because', 're', 'some', \"you'll\", 'has', 'won', \"isn't\", 'wouldn', 'while', 'above', 'and', 'so', 'both', 'any', 'but', 'you', \"she's\", 'if', 'he', 'more', 'didn', \"shan't\", 'for', 'she', 'once', \"you'd\", 'did', 'further', 'out', \"aren't\", 'mustn', 'each', 'ma', 'to', 'that', 'isn', \"needn't\", 'whom', 'don', 'up', 'herself'}\n"
     ]
    }
   ],
   "source": [
    "from nltk.corpus import stopwords\n",
    "stop_words=set(stopwords.words(\"english\"))\n",
    "print(stop_words)"
   ]
  },
  {
   "cell_type": "code",
   "execution_count": 9,
   "id": "b52445f4",
   "metadata": {},
   "outputs": [
    {
     "name": "stdout",
     "output_type": "stream",
     "text": [
      "Tokenized Word: ['Hello', 'Mr.', 'Smith', ',', 'how', 'are', 'you', 'doing', 'today', '?', 'The', 'weather', 'is', 'great', ',', 'and', 'city', 'is', 'awesome', '.', 'The', 'sky', 'is', 'pinkish-blue', '.', 'You', 'should', \"n't\", 'eat', 'cardboard']\n",
      "Filterd Sentence: ['Hello', 'Mr.', 'Smith', ',', 'today', '?', 'The', 'weather', 'great', ',', 'city', 'awesome', '.', 'The', 'sky', 'pinkish-blue', '.', 'You', \"n't\", 'eat', 'cardboard']\n"
     ]
    }
   ],
   "source": [
    "filtered_sent=[]\n",
    "for w in tokenized_word:\n",
    "    if w not in stop_words:\n",
    "        filtered_sent.append(w)\n",
    "print(\"Tokenized Word:\",tokenized_word)\n",
    "print(\"Filterd Sentence:\",filtered_sent)"
   ]
  },
  {
   "cell_type": "code",
   "execution_count": null,
   "id": "ea6e7221",
   "metadata": {},
   "outputs": [],
   "source": []
  }
 ],
 "metadata": {
  "kernelspec": {
   "display_name": "Python 3 (ipykernel)",
   "language": "python",
   "name": "python3"
  },
  "language_info": {
   "codemirror_mode": {
    "name": "ipython",
    "version": 3
   },
   "file_extension": ".py",
   "mimetype": "text/x-python",
   "name": "python",
   "nbconvert_exporter": "python",
   "pygments_lexer": "ipython3",
   "version": "3.10.0"
  }
 },
 "nbformat": 4,
 "nbformat_minor": 5
}
